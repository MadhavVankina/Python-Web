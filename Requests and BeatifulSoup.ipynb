{
 "cells": [
  {
   "cell_type": "code",
   "execution_count": null,
   "metadata": {},
   "outputs": [],
   "source": [
    "import requests\n",
    "from bs4 import BeautifulSoup\n",
    "\n",
    "request = requests.get(\"https://www.thebodyshop.com/en-us/body/lotion-and-cream/spa-of-the-world-hawaiian-kukui-cream/p/p000551\")\n",
    "content = request.content\n",
    "soup = BeautifulSoup(content,\"html.parser\")\n",
    "element = soup.find(\"strong\", {\"class\": \"\",\"aria-label\": \"Current price is $36.00\"})\n",
    "string_price = element.text.strip()\n",
    "price_without_symbol = float(string_price[1:])\n",
    "print(price_without_symbol)\n",
    "\n",
    "# <strong class=\"\" aria-label=\"Current price is $36.00\">$36.00</strong>"
   ]
  }
 ],
 "metadata": {
  "kernelspec": {
   "display_name": "Python 3",
   "language": "python",
   "name": "python3"
  },
  "language_info": {
   "codemirror_mode": {
    "name": "ipython",
    "version": 3
   },
   "file_extension": ".py",
   "mimetype": "text/x-python",
   "name": "python",
   "nbconvert_exporter": "python",
   "pygments_lexer": "ipython3",
   "version": "3.7.6"
  }
 },
 "nbformat": 4,
 "nbformat_minor": 4
}
